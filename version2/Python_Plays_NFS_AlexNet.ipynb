{
  "nbformat": 4,
  "nbformat_minor": 0,
  "metadata": {
    "colab": {
      "name": "Python-Plays-NFS-AlexNet.ipynb",
      "provenance": [],
      "collapsed_sections": [],
      "machine_shape": "hm"
    },
    "kernelspec": {
      "name": "python3",
      "display_name": "Python 3"
    },
    "accelerator": "GPU"
  },
  "cells": [
    {
      "cell_type": "code",
      "metadata": {
        "id": "iQOUpad1VvgT",
        "colab_type": "code",
        "colab": {
          "base_uri": "https://localhost:8080/",
          "height": 34
        },
        "outputId": "7b4200a1-8c2b-455b-ca49-7ebee1907de2"
      },
      "source": [
        "from google.colab import drive          # connect to drvie\n",
        "drive.mount('/content/drive')"
      ],
      "execution_count": null,
      "outputs": [
        {
          "output_type": "stream",
          "text": [
            "Drive already mounted at /content/drive; to attempt to forcibly remount, call drive.mount(\"/content/drive\", force_remount=True).\n"
          ],
          "name": "stdout"
        }
      ]
    },
    {
      "cell_type": "code",
      "metadata": {
        "id": "Zp2aX8rdbZnd",
        "colab_type": "code",
        "colab": {
          "base_uri": "https://localhost:8080/",
          "height": 527
        },
        "outputId": "3cb58086-afa2-42f4-b086-41b3ae6b2901"
      },
      "source": [
        "# install needed libraries\n",
        "!pip install zstd\n",
        "!pip install zstandard\n",
        "# For TensorBoard\n",
        "!wget https://bin.equinox.io/c/4VmDzA7iaHb/ngrok-stable-linux-amd64.zip\n",
        "!unzip ngrok-stable-linux-amd64.zip"
      ],
      "execution_count": null,
      "outputs": [
        {
          "output_type": "stream",
          "text": [
            "Collecting zstd\n",
            "\u001b[?25l  Downloading https://files.pythonhosted.org/packages/0b/46/c17843364277eef48437c1ad8d083600c82afab23b6bc8281eae247d0277/zstd-1.4.4.0.tar.gz (469kB)\n",
            "\u001b[K     |████████████████████████████████| 471kB 3.2MB/s \n",
            "\u001b[?25hBuilding wheels for collected packages: zstd\n",
            "  Building wheel for zstd (setup.py) ... \u001b[?25l\u001b[?25hdone\n",
            "  Created wheel for zstd: filename=zstd-1.4.4.0-cp36-cp36m-linux_x86_64.whl size=1129664 sha256=e6c1174985ab4aa12f986c25985ec8b04146d8bcd7ddf77f45a87141ba256f02\n",
            "  Stored in directory: /root/.cache/pip/wheels/ce/0d/5a/3c2ccf5522d1cd3ecdeb2af8c9889179d7a204376b1d5c042d\n",
            "Successfully built zstd\n",
            "Installing collected packages: zstd\n",
            "Successfully installed zstd-1.4.4.0\n",
            "Collecting zstandard\n",
            "\u001b[?25l  Downloading https://files.pythonhosted.org/packages/c6/40/cde2dfec7e25145c893267ebd1c5e3e0915ebc7274652d3f863e212026ec/zstandard-0.13.0-cp36-cp36m-manylinux2014_x86_64.whl (3.5MB)\n",
            "\u001b[K     |████████████████████████████████| 3.5MB 3.3MB/s \n",
            "\u001b[?25hRequirement already satisfied: cffi>=1.11 in /usr/local/lib/python3.6/dist-packages (from zstandard) (1.14.0)\n",
            "Requirement already satisfied: pycparser in /usr/local/lib/python3.6/dist-packages (from cffi>=1.11->zstandard) (2.20)\n",
            "Installing collected packages: zstandard\n",
            "Successfully installed zstandard-0.13.0\n",
            "--2020-04-20 13:29:06--  https://bin.equinox.io/c/4VmDzA7iaHb/ngrok-stable-linux-amd64.zip\n",
            "Resolving bin.equinox.io (bin.equinox.io)... 34.197.27.35, 34.232.135.84, 34.233.35.85, ...\n",
            "Connecting to bin.equinox.io (bin.equinox.io)|34.197.27.35|:443... connected.\n",
            "HTTP request sent, awaiting response... 200 OK\n",
            "Length: 13773305 (13M) [application/octet-stream]\n",
            "Saving to: ‘ngrok-stable-linux-amd64.zip’\n",
            "\n",
            "ngrok-stable-linux- 100%[===================>]  13.13M  37.3MB/s    in 0.4s    \n",
            "\n",
            "2020-04-20 13:29:07 (37.3 MB/s) - ‘ngrok-stable-linux-amd64.zip’ saved [13773305/13773305]\n",
            "\n",
            "Archive:  ngrok-stable-linux-amd64.zip\n",
            "  inflating: ngrok                   \n"
          ],
          "name": "stdout"
        }
      ]
    },
    {
      "cell_type": "code",
      "metadata": {
        "id": "pC2vXh6CV9SR",
        "colab_type": "code",
        "colab": {
          "base_uri": "https://localhost:8080/",
          "height": 34
        },
        "outputId": "850d0a65-7c95-4d5a-f3ea-1ca8e887665a"
      },
      "source": [
        "# imports\n",
        "import tensorflow\n",
        "from tensorflow import keras\n",
        "import numpy as np\n",
        "import pandas as pd\n",
        "from keras.models import Sequential\n",
        "from keras.layers import Dense, Activation, Dropout, Flatten, Conv2D, MaxPooling2D\n",
        "from keras.layers.normalization import BatchNormalization\n",
        "from keras.callbacks import TensorBoard\n",
        "from sys import exit\n",
        "import zstd\n",
        "import zstandard"
      ],
      "execution_count": null,
      "outputs": [
        {
          "output_type": "stream",
          "text": [
            "Using TensorFlow backend.\n"
          ],
          "name": "stderr"
        }
      ]
    },
    {
      "cell_type": "code",
      "metadata": {
        "id": "oPVo8w-y4Tu_",
        "colab_type": "code",
        "colab": {
          "base_uri": "https://localhost:8080/",
          "height": 34
        },
        "outputId": "c6360738-50b2-41f2-9451-6268cbd25bd4"
      },
      "source": [
        "LogDir = './log'\n",
        "get_ipython().system_raw(\n",
        "    'tensorboard --logdir {} --host 0.0.0.0 --port 6006 &'\n",
        "    .format(LogDir)\n",
        ")\n",
        "\n",
        "get_ipython().system_raw('./ngrok http 6006 &')\n",
        "\n",
        "! curl -s http://localhost:4040/api/tunnels | python3 -c \"import sys, json; print(json.load(sys.stdin)['tunnels'][0]['public_url'])\""
      ],
      "execution_count": null,
      "outputs": [
        {
          "output_type": "stream",
          "text": [
            "https://7bb8985c.ngrok.io\n"
          ],
          "name": "stdout"
        }
      ]
    },
    {
      "cell_type": "code",
      "metadata": {
        "id": "i-Hve5FJX8mo",
        "colab_type": "code",
        "colab": {}
      },
      "source": [
        "FileAddress = r\"/content/drive/My Drive/ML/Python Plays NFS/split Data(python plays NFS)/{}\"\n",
        "OutPutName = [\"x_train.npy\", \"y_train.npy\", \"x_test.npy\", \"y_test.npy\"]"
      ],
      "execution_count": null,
      "outputs": []
    },
    {
      "cell_type": "code",
      "metadata": {
        "id": "5C0DQ7NeZpEW",
        "colab_type": "code",
        "colab": {}
      },
      "source": [
        "def decompress_zstd(input_file, output_file):                      \n",
        "    with open(input_file, 'rb') as compressed:\n",
        "        decomp = zstandard.ZstdDecompressor()\n",
        "\n",
        "        with open(output_file, 'wb') as destination:\n",
        "            decomp.copy_stream(compressed, destination)"
      ],
      "execution_count": null,
      "outputs": []
    },
    {
      "cell_type": "code",
      "metadata": {
        "id": "2N0O0Dm7ZiCO",
        "colab_type": "code",
        "colab": {
          "base_uri": "https://localhost:8080/",
          "height": 51
        },
        "outputId": "62772332-82c6-4763-80b8-e4d5b2b97f19"
      },
      "source": [
        "print(\"Decompressing!\")\n",
        "decompress_zstd(FileAddress.format(\"x_train.npy.zst\"), OutPutName[0])\n",
        "decompress_zstd(FileAddress.format(\"y_train.npy.zst\"), OutPutName[1])\n",
        "decompress_zstd(FileAddress.format(\"x_test.npy.zst\"), OutPutName[2])\n",
        "decompress_zstd(FileAddress.format(\"y_test.npy.zst\"), OutPutName[3])\n",
        "print(\"Done!\")"
      ],
      "execution_count": null,
      "outputs": [
        {
          "output_type": "stream",
          "text": [
            "Decompressing!\n",
            "Done!\n"
          ],
          "name": "stdout"
        }
      ]
    },
    {
      "cell_type": "code",
      "metadata": {
        "id": "TxehqU3f3UkV",
        "colab_type": "code",
        "colab": {}
      },
      "source": [
        "# Load train data into ram\n",
        "x_train = np.load(\"x_train.npy\", allow_pickle=True)\n",
        "y_train = np.load(\"y_train.npy\", allow_pickle=True)"
      ],
      "execution_count": null,
      "outputs": []
    },
    {
      "cell_type": "code",
      "metadata": {
        "id": "-knZ_VM32dd2",
        "colab_type": "code",
        "colab": {}
      },
      "source": [
        "x_train = x_train.reshape(x_train.shape[0], 224, 224, 1)            # reshaping data"
      ],
      "execution_count": null,
      "outputs": []
    },
    {
      "cell_type": "code",
      "metadata": {
        "id": "ClIDEKgX3fVq",
        "colab_type": "code",
        "colab": {
          "base_uri": "https://localhost:8080/",
          "height": 51
        },
        "outputId": "83339f24-5300-4c07-9a2e-b6b06964a6ff"
      },
      "source": [
        "print(\"Data Is Ready For training!\\n\")"
      ],
      "execution_count": null,
      "outputs": [
        {
          "output_type": "stream",
          "text": [
            "Data Is Ready For training!\n",
            "\n"
          ],
          "name": "stdout"
        }
      ]
    },
    {
      "cell_type": "code",
      "metadata": {
        "id": "JrZpU4sU5CNx",
        "colab_type": "code",
        "colab": {}
      },
      "source": [
        "DataTestSize = 0.07\n",
        "Epochs = 32\n",
        "batch_size = 32"
      ],
      "execution_count": null,
      "outputs": []
    },
    {
      "cell_type": "code",
      "metadata": {
        "id": "JMoC46uR56vE",
        "colab_type": "code",
        "colab": {
          "base_uri": "https://localhost:8080/",
          "height": 1000
        },
        "outputId": "cb196773-011c-4703-ec16-188632334d2f"
      },
      "source": [
        "model = Sequential()\n",
        "\n",
        "# 1st Convolutional Layer\n",
        "model.add(Conv2D(filters=96, input_shape=(224, 224, 1), kernel_size=(11, 11), strides=(4, 4), padding='valid'))\n",
        "model.add(Activation('relu'))\n",
        "# Pooling\n",
        "model.add(MaxPooling2D(pool_size=(2, 2), strides=(2, 2), padding='valid'))\n",
        "# Batch Normalisation before passing it to the next layer\n",
        "model.add(BatchNormalization())\n",
        "\n",
        "# 2nd Convolutional Layer\n",
        "model.add(Conv2D(filters=256, kernel_size=(11, 11), strides=(1, 1), padding='valid'))\n",
        "model.add(Activation('relu'))\n",
        "# Pooling\n",
        "model.add(MaxPooling2D(pool_size=(2, 2), strides=(2, 2), padding='valid'))\n",
        "# Batch Normalisation\n",
        "model.add(BatchNormalization())\n",
        "\n",
        "# 3rd Convolutional Layer\n",
        "model.add(Conv2D(filters=384, kernel_size=(3, 3), strides=(1, 1), padding='valid'))\n",
        "model.add(Activation('relu'))\n",
        "# Batch Normalisation\n",
        "model.add(BatchNormalization())\n",
        "\n",
        "# 4th Convolutional Layer\n",
        "model.add(Conv2D(filters=384, kernel_size=(3, 3), strides=(1, 1), padding='valid'))\n",
        "model.add(Activation('relu'))\n",
        "# Batch Normalisation\n",
        "model.add(BatchNormalization())\n",
        "\n",
        "# 5th Convolutional Layer\n",
        "model.add(Conv2D(filters=256, kernel_size=(3, 3), strides=(1, 1), padding='valid'))\n",
        "model.add(Activation('relu'))\n",
        "# Pooling\n",
        "model.add(MaxPooling2D(pool_size=(2, 2), strides=(2, 2), padding='valid'))\n",
        "# Batch Normalisation\n",
        "model.add(BatchNormalization())\n",
        "\n",
        "# Passing it to a dense layer\n",
        "model.add(Flatten())\n",
        "# 1st Dense Layer\n",
        "model.add(Dense(4096, input_shape=(224*224*3,)))\n",
        "model.add(Activation('relu'))\n",
        "# Add Dropout to prevent overfitting\n",
        "model.add(Dropout(0.4))\n",
        "# Batch Normalisation\n",
        "model.add(BatchNormalization())\n",
        "\n",
        "# 2nd Dense Layer\n",
        "model.add(Dense(4096))\n",
        "model.add(Activation('relu'))\n",
        "# Add Dropout\n",
        "model.add(Dropout(0.4))\n",
        "# Batch Normalisation\n",
        "model.add(BatchNormalization())\n",
        "\n",
        "# 3rd Dense Layer\n",
        "model.add(Dense(1000))\n",
        "model.add(Activation('relu'))\n",
        "# Add Dropout\n",
        "model.add(Dropout(0.4))\n",
        "# Batch Normalisation\n",
        "model.add(BatchNormalization())\n",
        "\n",
        "# Output Layer\n",
        "model.add(Dense(3))\n",
        "model.add(Activation('softmax'))\n",
        "\n",
        "model.summary()\n",
        "\n",
        "# (4) Compile\n",
        "model.compile(loss='categorical_crossentropy', optimizer='adam', metrics=['accuracy'])"
      ],
      "execution_count": null,
      "outputs": [
        {
          "output_type": "stream",
          "text": [
            "Model: \"sequential_1\"\n",
            "_________________________________________________________________\n",
            "Layer (type)                 Output Shape              Param #   \n",
            "=================================================================\n",
            "conv2d_1 (Conv2D)            (None, 54, 54, 96)        11712     \n",
            "_________________________________________________________________\n",
            "activation_1 (Activation)    (None, 54, 54, 96)        0         \n",
            "_________________________________________________________________\n",
            "max_pooling2d_1 (MaxPooling2 (None, 27, 27, 96)        0         \n",
            "_________________________________________________________________\n",
            "batch_normalization_1 (Batch (None, 27, 27, 96)        384       \n",
            "_________________________________________________________________\n",
            "conv2d_2 (Conv2D)            (None, 17, 17, 256)       2973952   \n",
            "_________________________________________________________________\n",
            "activation_2 (Activation)    (None, 17, 17, 256)       0         \n",
            "_________________________________________________________________\n",
            "max_pooling2d_2 (MaxPooling2 (None, 8, 8, 256)         0         \n",
            "_________________________________________________________________\n",
            "batch_normalization_2 (Batch (None, 8, 8, 256)         1024      \n",
            "_________________________________________________________________\n",
            "conv2d_3 (Conv2D)            (None, 6, 6, 384)         885120    \n",
            "_________________________________________________________________\n",
            "activation_3 (Activation)    (None, 6, 6, 384)         0         \n",
            "_________________________________________________________________\n",
            "batch_normalization_3 (Batch (None, 6, 6, 384)         1536      \n",
            "_________________________________________________________________\n",
            "conv2d_4 (Conv2D)            (None, 4, 4, 384)         1327488   \n",
            "_________________________________________________________________\n",
            "activation_4 (Activation)    (None, 4, 4, 384)         0         \n",
            "_________________________________________________________________\n",
            "batch_normalization_4 (Batch (None, 4, 4, 384)         1536      \n",
            "_________________________________________________________________\n",
            "conv2d_5 (Conv2D)            (None, 2, 2, 256)         884992    \n",
            "_________________________________________________________________\n",
            "activation_5 (Activation)    (None, 2, 2, 256)         0         \n",
            "_________________________________________________________________\n",
            "max_pooling2d_3 (MaxPooling2 (None, 1, 1, 256)         0         \n",
            "_________________________________________________________________\n",
            "batch_normalization_5 (Batch (None, 1, 1, 256)         1024      \n",
            "_________________________________________________________________\n",
            "flatten_1 (Flatten)          (None, 256)               0         \n",
            "_________________________________________________________________\n",
            "dense_1 (Dense)              (None, 4096)              1052672   \n",
            "_________________________________________________________________\n",
            "activation_6 (Activation)    (None, 4096)              0         \n",
            "_________________________________________________________________\n",
            "dropout_1 (Dropout)          (None, 4096)              0         \n",
            "_________________________________________________________________\n",
            "batch_normalization_6 (Batch (None, 4096)              16384     \n",
            "_________________________________________________________________\n",
            "dense_2 (Dense)              (None, 4096)              16781312  \n",
            "_________________________________________________________________\n",
            "activation_7 (Activation)    (None, 4096)              0         \n",
            "_________________________________________________________________\n",
            "dropout_2 (Dropout)          (None, 4096)              0         \n",
            "_________________________________________________________________\n",
            "batch_normalization_7 (Batch (None, 4096)              16384     \n",
            "_________________________________________________________________\n",
            "dense_3 (Dense)              (None, 1000)              4097000   \n",
            "_________________________________________________________________\n",
            "activation_8 (Activation)    (None, 1000)              0         \n",
            "_________________________________________________________________\n",
            "dropout_3 (Dropout)          (None, 1000)              0         \n",
            "_________________________________________________________________\n",
            "batch_normalization_8 (Batch (None, 1000)              4000      \n",
            "_________________________________________________________________\n",
            "dense_4 (Dense)              (None, 3)                 3003      \n",
            "_________________________________________________________________\n",
            "activation_9 (Activation)    (None, 3)                 0         \n",
            "=================================================================\n",
            "Total params: 28,059,523\n",
            "Trainable params: 28,038,387\n",
            "Non-trainable params: 21,136\n",
            "_________________________________________________________________\n"
          ],
          "name": "stdout"
        }
      ]
    },
    {
      "cell_type": "code",
      "metadata": {
        "id": "VFhTQu2fWYFT",
        "colab_type": "code",
        "colab": {}
      },
      "source": [
        "tbCallBack = TensorBoard(log_dir=LogDir, histogram_freq=1,                  # TensorBoard\n",
        "                         write_graph=True,\n",
        "                         write_images=True)"
      ],
      "execution_count": null,
      "outputs": []
    },
    {
      "cell_type": "code",
      "metadata": {
        "id": "j2yqVTBN6mgd",
        "colab_type": "code",
        "colab": {
          "base_uri": "https://localhost:8080/",
          "height": 1000
        },
        "outputId": "0e518e96-eac9-40f0-c9ab-861dbd987034"
      },
      "source": [
        "print(\"Training...\")\n",
        "model.fit(x_train, y_train, batch_size=batch_size, epochs=Epochs, verbose=1, validation_split=0.08, callbacks=[tbCallBack])\n",
        "print(\"Done training\")"
      ],
      "execution_count": null,
      "outputs": [
        {
          "output_type": "stream",
          "text": [
            "Training...\n",
            "Train on 47494 samples, validate on 4130 samples\n",
            "Epoch 1/32\n",
            "47494/47494 [==============================] - 234s 5ms/step - loss: 1.0851 - accuracy: 0.4916 - val_loss: 1.4406 - val_accuracy: 0.4642\n",
            "Epoch 2/32\n",
            "47494/47494 [==============================] - 225s 5ms/step - loss: 0.7736 - accuracy: 0.6606 - val_loss: 0.8049 - val_accuracy: 0.6557\n",
            "Epoch 3/32\n",
            "47494/47494 [==============================] - 222s 5ms/step - loss: 0.5305 - accuracy: 0.7755 - val_loss: 0.4346 - val_accuracy: 0.8223\n",
            "Epoch 4/32\n",
            "47494/47494 [==============================] - 222s 5ms/step - loss: 0.3840 - accuracy: 0.8457 - val_loss: 0.4415 - val_accuracy: 0.8186\n",
            "Epoch 5/32\n",
            "47494/47494 [==============================] - 224s 5ms/step - loss: 0.2797 - accuracy: 0.8949 - val_loss: 0.2908 - val_accuracy: 0.8891\n",
            "Epoch 6/32\n",
            "47494/47494 [==============================] - 226s 5ms/step - loss: 0.1981 - accuracy: 0.9280 - val_loss: 0.3600 - val_accuracy: 0.8680\n",
            "Epoch 7/32\n",
            "47494/47494 [==============================] - 225s 5ms/step - loss: 0.1614 - accuracy: 0.9445 - val_loss: 0.3248 - val_accuracy: 0.8961\n",
            "Epoch 8/32\n",
            "47494/47494 [==============================] - 225s 5ms/step - loss: 0.1210 - accuracy: 0.9583 - val_loss: 0.3571 - val_accuracy: 0.8680\n",
            "Epoch 9/32\n",
            "47494/47494 [==============================] - 225s 5ms/step - loss: 0.1044 - accuracy: 0.9640 - val_loss: 0.3108 - val_accuracy: 0.9099\n",
            "Epoch 10/32\n",
            "47494/47494 [==============================] - 225s 5ms/step - loss: 0.0893 - accuracy: 0.9721 - val_loss: 0.3868 - val_accuracy: 0.8831\n",
            "Epoch 11/32\n",
            "47494/47494 [==============================] - 224s 5ms/step - loss: 0.0908 - accuracy: 0.9706 - val_loss: 0.3077 - val_accuracy: 0.9247\n",
            "Epoch 12/32\n",
            "47494/47494 [==============================] - 225s 5ms/step - loss: 0.0938 - accuracy: 0.9693 - val_loss: 0.5371 - val_accuracy: 0.8504\n",
            "Epoch 13/32\n",
            "47494/47494 [==============================] - 226s 5ms/step - loss: 0.0716 - accuracy: 0.9769 - val_loss: 0.5500 - val_accuracy: 0.9145\n",
            "Epoch 14/32\n",
            "47494/47494 [==============================] - 229s 5ms/step - loss: 0.0632 - accuracy: 0.9807 - val_loss: 0.4157 - val_accuracy: 0.9061\n",
            "Epoch 15/32\n",
            "47494/47494 [==============================] - 227s 5ms/step - loss: 0.0567 - accuracy: 0.9819 - val_loss: 1.8577 - val_accuracy: 0.9375\n",
            "Epoch 16/32\n",
            "47494/47494 [==============================] - 227s 5ms/step - loss: 0.0489 - accuracy: 0.9855 - val_loss: 0.7652 - val_accuracy: 0.8741\n",
            "Epoch 17/32\n",
            "47494/47494 [==============================] - 224s 5ms/step - loss: 0.0591 - accuracy: 0.9826 - val_loss: 1.6044 - val_accuracy: 0.9172\n",
            "Epoch 18/32\n",
            "47494/47494 [==============================] - 224s 5ms/step - loss: 0.0771 - accuracy: 0.9780 - val_loss: 0.3458 - val_accuracy: 0.9276\n",
            "Epoch 19/32\n",
            "47494/47494 [==============================] - 224s 5ms/step - loss: 0.1311 - accuracy: 0.9578 - val_loss: 0.6254 - val_accuracy: 0.9278\n",
            "Epoch 20/32\n",
            "47494/47494 [==============================] - 223s 5ms/step - loss: 0.0406 - accuracy: 0.9874 - val_loss: 1.2423 - val_accuracy: 0.9320\n",
            "Epoch 21/32\n",
            "47494/47494 [==============================] - 223s 5ms/step - loss: 0.0343 - accuracy: 0.9896 - val_loss: 1.7094 - val_accuracy: 0.9295\n",
            "Epoch 22/32\n",
            "47494/47494 [==============================] - 224s 5ms/step - loss: 0.0479 - accuracy: 0.9853 - val_loss: 0.7025 - val_accuracy: 0.9252\n",
            "Epoch 23/32\n",
            "47494/47494 [==============================] - 224s 5ms/step - loss: 0.0290 - accuracy: 0.9914 - val_loss: 10.9207 - val_accuracy: 0.9015\n",
            "Epoch 24/32\n",
            "47494/47494 [==============================] - 225s 5ms/step - loss: 0.0499 - accuracy: 0.9851 - val_loss: 1.5639 - val_accuracy: 0.9264\n",
            "Epoch 25/32\n",
            "47494/47494 [==============================] - 224s 5ms/step - loss: 0.0330 - accuracy: 0.9898 - val_loss: 0.5198 - val_accuracy: 0.9155\n",
            "Epoch 26/32\n",
            "47494/47494 [==============================] - 224s 5ms/step - loss: 0.0407 - accuracy: 0.9881 - val_loss: 0.3737 - val_accuracy: 0.9220\n",
            "Epoch 27/32\n",
            "47494/47494 [==============================] - 225s 5ms/step - loss: 0.0297 - accuracy: 0.9913 - val_loss: 3.3712 - val_accuracy: 0.9332\n",
            "Epoch 28/32\n",
            "47494/47494 [==============================] - 225s 5ms/step - loss: 0.0421 - accuracy: 0.9872 - val_loss: 1.0122 - val_accuracy: 0.9247\n",
            "Epoch 29/32\n",
            "47494/47494 [==============================] - 223s 5ms/step - loss: 0.0460 - accuracy: 0.9861 - val_loss: 3.5428 - val_accuracy: 0.9283\n",
            "Epoch 30/32\n",
            "47494/47494 [==============================] - 225s 5ms/step - loss: 0.0277 - accuracy: 0.9913 - val_loss: 10.6098 - val_accuracy: 0.9387\n",
            "Epoch 31/32\n",
            "47494/47494 [==============================] - 224s 5ms/step - loss: 0.0251 - accuracy: 0.9923 - val_loss: 1.0326 - val_accuracy: 0.9312\n",
            "Epoch 32/32\n",
            "47494/47494 [==============================] - 223s 5ms/step - loss: 0.0276 - accuracy: 0.9920 - val_loss: 0.4560 - val_accuracy: 0.8939\n",
            "Done training\n"
          ],
          "name": "stdout"
        }
      ]
    },
    {
      "cell_type": "code",
      "metadata": {
        "id": "a9_TYW-f3Q-G",
        "colab_type": "code",
        "colab": {}
      },
      "source": [
        "# remove train data from the ram\n",
        "del(x_train)\n",
        "del(y_train)"
      ],
      "execution_count": null,
      "outputs": []
    },
    {
      "cell_type": "code",
      "metadata": {
        "id": "jmyyRWpk2j89",
        "colab_type": "code",
        "colab": {}
      },
      "source": [
        "# Load Test Data\n",
        "x_test = np.load(\"x_test.npy\", allow_pickle=True)\n",
        "y_test = np.load(\"y_test.npy\", allow_pickle=True)"
      ],
      "execution_count": null,
      "outputs": []
    },
    {
      "cell_type": "code",
      "metadata": {
        "id": "mKMFPUSL21hC",
        "colab_type": "code",
        "colab": {}
      },
      "source": [
        "x_test = x_test.reshape(x_test.shape[0], 224, 224, 1)"
      ],
      "execution_count": null,
      "outputs": []
    },
    {
      "cell_type": "code",
      "metadata": {
        "id": "bMW-n_IW6zKA",
        "colab_type": "code",
        "colab": {
          "base_uri": "https://localhost:8080/",
          "height": 51
        },
        "outputId": "8ddc7fa9-917e-4c0e-83be-80d939a7503a"
      },
      "source": [
        "# Test model\n",
        "result = model.evaluate(x_test, y_test)\n",
        "print(result)"
      ],
      "execution_count": null,
      "outputs": [
        {
          "output_type": "stream",
          "text": [
            "3294/3294 [==============================] - 4s 1ms/step\n",
            "[0.5160460334314168, 0.8825136423110962]\n"
          ],
          "name": "stdout"
        }
      ]
    },
    {
      "cell_type": "code",
      "metadata": {
        "id": "XCBOVgZq3Xm1",
        "colab_type": "code",
        "colab": {}
      },
      "source": [
        "# remove test data from the ram\n",
        "del(x_test)\n",
        "del(y_test)"
      ],
      "execution_count": null,
      "outputs": []
    },
    {
      "cell_type": "code",
      "metadata": {
        "id": "j60q06Gy_Hum",
        "colab_type": "code",
        "colab": {}
      },
      "source": [
        "ModelName= r\"Trained-Final.h5\"             # for saving\n",
        "ModelSaveAddresss = r\"/content/drive/My Drive/ML/Python Plays NFS/\" + ModelName"
      ],
      "execution_count": null,
      "outputs": []
    },
    {
      "cell_type": "code",
      "metadata": {
        "id": "8Y0tyqXY621g",
        "colab_type": "code",
        "colab": {
          "base_uri": "https://localhost:8080/",
          "height": 51
        },
        "outputId": "95d2e858-7d9a-46fe-c191-b33f424e1a9a"
      },
      "source": [
        "# Save the model\n",
        "print(\"Saving...\")           # for saving\n",
        "model.save(ModelSaveAddresss.format(ModelName))              # save on google drive\n",
        "model.save(ModelName)                                        # save on local storage\n",
        "print(\"Done!\")"
      ],
      "execution_count": null,
      "outputs": [
        {
          "output_type": "stream",
          "text": [
            "Saving...\n",
            "Done!\n"
          ],
          "name": "stdout"
        }
      ]
    },
    {
      "cell_type": "code",
      "metadata": {
        "id": "jpNmSNZi67Y0",
        "colab_type": "code",
        "colab": {}
      },
      "source": [
        "#exit(0)"
      ],
      "execution_count": null,
      "outputs": []
    }
  ]
}